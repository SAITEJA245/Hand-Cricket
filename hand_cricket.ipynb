{
  "nbformat": 4,
  "nbformat_minor": 0,
  "metadata": {
    "colab": {
      "name": "hand cricket.ipynb",
      "provenance": [],
      "authorship_tag": "ABX9TyO1ccV6D7YP91Uif6ghxBo3"
    },
    "kernelspec": {
      "name": "python3",
      "display_name": "Python 3"
    },
    "language_info": {
      "name": "python"
    }
  },
  "cells": [
    {
      "cell_type": "code",
      "metadata": {
        "id": "kYMCx8sckuV1"
      },
      "source": [
        "#hand cricket\n",
        "import random\n",
        "\n",
        "score=0\n",
        "print(\"you are batting...\\n\")\n",
        "n=1 # n can be any number other than 0\n",
        "while (n!=0): \n",
        "  u=int(input(\"Enter your batting choice from 1 to 6: \"))    #users choice\n",
        "  m=random.randint(1,6)    #machine's choice \n",
        "  print(\"Computer's number\",m)\n",
        "  if(m!=u): \n",
        "    score+=u\n",
        "    print(\"Your score is:\",score)\n",
        "  else:\n",
        "    n=0\n",
        "    print(\"Computer choose\",m,\"You are out\")\n",
        "    print(\"\\nYour final score is:\",score)\n",
        "    print(\"\\nYou are bowling now....\")\n",
        "\n",
        "target=score+1\n",
        "print(\"Target for computer is: \",target)\n",
        "\n",
        "while (target>0):\n",
        "  m=random.randint(1,6)\n",
        "  u=int(input(\"Enter your bowling choice : \"))\n",
        "  print(\"Computer's number\",m)\n",
        "  if(m!=u):\n",
        "    target-=m\n",
        "    if(target>0):\n",
        "      print(\"Computer need:\",target,\"runs\")\n",
        "  else:\n",
        "    print(\"Computer is out\")  \n",
        "    break\n",
        "\n",
        "if(target<=0):\n",
        "  print(\"\\nComputer won the match\")\n",
        "elif(target==1):\n",
        "  print(\"\\nmatch tied\")\n",
        "else:\n",
        "  print(\"\\nYour won by\",target-1,\"runs\")"
      ],
      "execution_count": null,
      "outputs": []
    }
  ]
}